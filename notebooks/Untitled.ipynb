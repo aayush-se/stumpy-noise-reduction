{
 "cells": [
  {
   "cell_type": "code",
   "execution_count": 27,
   "id": "eac10611-3367-4e65-80a2-0393f50df31d",
   "metadata": {},
   "outputs": [],
   "source": [
    "# from stumpy import stumpy \n",
    "# !ls ../stumpy/\n",
    "import sys\n",
    "# sys.path.append()\n",
    "stumpy_path = mypath = '/Users/aayushseth/code/stumpy-noise-reduction/stumpy'\n",
    "# stumpy_path = \"../stumpy\"\n",
    "sys.path.insert(0, stumpy_path)\n",
    "# from \"stumpy\" import stumpi\n",
    "# import stumpy\n",
    "# from stumpy import __init__ as stumpy\n",
    "# import stumpy-noise-reduction.stumpi\n",
    "# sys.path\n",
    "# from stumpy import stumpy\n",
    "import stumpy"
   ]
  },
  {
   "cell_type": "code",
   "execution_count": 30,
   "id": "fd4e8139-7aab-4881-811a-7da77de45640",
   "metadata": {},
   "outputs": [
    {
     "data": {
      "text/plain": [
       "<function stumpy.stumpi.stumpi(T, m, egress=True, normalize=True, p=2.0, k=1, mp=None, T_subseq_isconstant_func=None)>"
      ]
     },
     "execution_count": 30,
     "metadata": {},
     "output_type": "execute_result"
    }
   ],
   "source": [
    "# stumpy.stumpi\n",
    "# stumpi\n",
    "stumpy.stumpi\n",
    "# stumpi"
   ]
  },
  {
   "cell_type": "code",
   "execution_count": 24,
   "id": "386b4af6-4925-4c5d-84bc-7d58dfeba4d6",
   "metadata": {},
   "outputs": [
    {
     "ename": "TypeError",
     "evalue": "module() missing required argument 'name' (pos 1)",
     "output_type": "error",
     "traceback": [
      "\u001b[0;31m---------------------------------------------------------------------------\u001b[0m",
      "\u001b[0;31mTypeError\u001b[0m                                 Traceback (most recent call last)",
      "Cell \u001b[0;32mIn[24], line 2\u001b[0m\n\u001b[1;32m      1\u001b[0m s \u001b[38;5;241m=\u001b[39m stumpy\n\u001b[0;32m----> 2\u001b[0m \u001b[43ms\u001b[49m\u001b[43m(\u001b[49m\u001b[43m)\u001b[49m\n",
      "\u001b[0;31mTypeError\u001b[0m: module() missing required argument 'name' (pos 1)"
     ]
    }
   ],
   "source": []
  },
  {
   "cell_type": "code",
   "execution_count": null,
   "id": "ea72c81a-222e-4d13-8902-557accbb7191",
   "metadata": {},
   "outputs": [],
   "source": []
  }
 ],
 "metadata": {
  "kernelspec": {
   "display_name": "Python 3 (ipykernel)",
   "language": "python",
   "name": "python3"
  },
  "language_info": {
   "codemirror_mode": {
    "name": "ipython",
    "version": 3
   },
   "file_extension": ".py",
   "mimetype": "text/x-python",
   "name": "python",
   "nbconvert_exporter": "python",
   "pygments_lexer": "ipython3",
   "version": "3.12.5"
  }
 },
 "nbformat": 4,
 "nbformat_minor": 5
}
